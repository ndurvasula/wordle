{
 "cells": [
  {
   "cell_type": "code",
   "execution_count": 1,
   "metadata": {},
   "outputs": [],
   "source": [
    "import pickle\n",
    "import numpy as np\n",
    "import tqdm"
   ]
  },
  {
   "cell_type": "code",
   "execution_count": 118,
   "metadata": {},
   "outputs": [],
   "source": [
    "arr1 = np.load(\"long_list.npy\")\n",
    "arr2 = np.load(\"short_list.npy\", allow_pickle=True)"
   ]
  },
  {
   "cell_type": "code",
   "execution_count": 119,
   "metadata": {},
   "outputs": [
    {
     "data": {
      "text/plain": [
       "(10657, 2315)"
      ]
     },
     "execution_count": 119,
     "metadata": {},
     "output_type": "execute_result"
    }
   ],
   "source": [
    "len(arr1), len(arr2)"
   ]
  },
  {
   "cell_type": "code",
   "execution_count": 120,
   "metadata": {},
   "outputs": [],
   "source": [
    "f = lambda l:\"\".join([chr(e) for e in l])"
   ]
  },
  {
   "cell_type": "code",
   "execution_count": 149,
   "metadata": {},
   "outputs": [],
   "source": [
    "comb = np.concatenate([arr1, arr2])\n",
    "comb = np.array(sorted(comb, key=f))"
   ]
  },
  {
   "cell_type": "code",
   "execution_count": 63,
   "metadata": {},
   "outputs": [],
   "source": [
    "def comp(l1, l2):\n",
    "    for i in range(len(l1)):\n",
    "        if l1[i] < l2[i]:\n",
    "            return -1\n",
    "        if l1[i] > l2[i]:\n",
    "            return 1\n",
    "    return 0\n",
    "def is_sorted(l):\n",
    "    for w1, w2 in zip(l[:-1], l[1:]):\n",
    "        if comp(w1, w2) != -1:\n",
    "            return False\n",
    "    return True"
   ]
  },
  {
   "cell_type": "code",
   "execution_count": 157,
   "metadata": {},
   "outputs": [
    {
     "data": {
      "text/plain": [
       "(True, True, True)"
      ]
     },
     "execution_count": 157,
     "metadata": {},
     "output_type": "execute_result"
    }
   ],
   "source": [
    "is_sorted(arr1), is_sorted(arr2), is_sorted(comb)"
   ]
  },
  {
   "cell_type": "code",
   "execution_count": 160,
   "metadata": {},
   "outputs": [],
   "source": [
    "np.save(\"combined.npy\", comb)\n",
    "np.save(\"short_list.npy\", arr2)"
   ]
  },
  {
   "cell_type": "code",
   "execution_count": 109,
   "metadata": {},
   "outputs": [],
   "source": [
    "def fb(guess, ans):\n",
    "    d = {i:i for i in range(5) if guess[i] == ans[i]}\n",
    "    for i in range(5):\n",
    "        if i in d:\n",
    "            continue\n",
    "        for j in range(5):\n",
    "            if j in d.values():\n",
    "                continue\n",
    "            if guess[i] == ans[j]:\n",
    "                d[i] = j\n",
    "    out = 0\n",
    "    for i in range(5):\n",
    "        if i not in d:\n",
    "            continue\n",
    "        elif d[i] == i:\n",
    "            out += np.power(2, i)\n",
    "        else:\n",
    "            out += 32*np.power(2, i)\n",
    "    return out"
   ]
  },
  {
   "cell_type": "markdown",
   "metadata": {},
   "source": [
    "#### Examples\n",
    "Guessing `reeds` when `elder` is the answer. Feedback is `YYYY_`, or\n",
    "\n",
    "`[[0, 0, 0, 0, 0],\n",
    "  [1, 1, 1, 1, 0]]`\n",
    "  \n",
    "The feedback number is $32+64+128+256 = 480$.\n",
    "\n",
    "Guessing `float` when `aloft` is the answer. Feedback is `YGGYG`, or\n",
    "\n",
    "`[[0, 1, 1, 0, 1],\n",
    "  [1, 0, 0, 1, 0]]`\n",
    "  \n",
    "The feedback number is $2+4+16+32+256=310$."
   ]
  },
  {
   "cell_type": "code",
   "execution_count": 163,
   "metadata": {},
   "outputs": [],
   "source": [
    "fi = lambda l:list(map(ord, l))"
   ]
  },
  {
   "cell_type": "code",
   "execution_count": 166,
   "metadata": {},
   "outputs": [
    {
     "data": {
      "text/plain": [
       "(480, 310)"
      ]
     },
     "execution_count": 166,
     "metadata": {},
     "output_type": "execute_result"
    }
   ],
   "source": [
    "fb(fi(\"reeds\"), fi(\"elder\")), fb(fi(\"float\"), fi(\"aloft\"))"
   ]
  },
  {
   "cell_type": "code",
   "execution_count": 168,
   "metadata": {},
   "outputs": [],
   "source": [
    "all_feedbacks = np.zeros((len(arr2), len(comb)))"
   ]
  },
  {
   "cell_type": "code",
   "execution_count": 169,
   "metadata": {},
   "outputs": [
    {
     "data": {
      "text/plain": [
       "(2315, 12972)"
      ]
     },
     "execution_count": 169,
     "metadata": {},
     "output_type": "execute_result"
    }
   ],
   "source": [
    "all_feedbacks.shape"
   ]
  },
  {
   "cell_type": "code",
   "execution_count": 173,
   "metadata": {},
   "outputs": [
    {
     "name": "stderr",
     "output_type": "stream",
     "text": [
      "100%|██████████| 2315/2315 [06:02<00:00,  6.38it/s]\n"
     ]
    }
   ],
   "source": [
    "for i in tqdm.trange(len(arr2)):\n",
    "    ans = arr2[i]\n",
    "    for j, guess in enumerate(comb):\n",
    "        all_feedbacks[i][j] = fb(guess, ans)"
   ]
  },
  {
   "cell_type": "code",
   "execution_count": 179,
   "metadata": {},
   "outputs": [],
   "source": [
    "all_feedbacks = all_feedbacks.astype(\"int64\")"
   ]
  },
  {
   "cell_type": "code",
   "execution_count": 180,
   "metadata": {},
   "outputs": [
    {
     "data": {
      "text/plain": [
       "480"
      ]
     },
     "execution_count": 180,
     "metadata": {},
     "output_type": "execute_result"
    }
   ],
   "source": [
    "all_feedbacks[641][9024] # elder, reeds"
   ]
  },
  {
   "cell_type": "code",
   "execution_count": 181,
   "metadata": {},
   "outputs": [],
   "source": [
    "np.save(\"feedbacks.npy\", all_feedbacks)"
   ]
  },
  {
   "cell_type": "code",
   "execution_count": null,
   "metadata": {},
   "outputs": [],
   "source": []
  }
 ],
 "metadata": {
  "kernelspec": {
   "display_name": "Python 3",
   "language": "python",
   "name": "python3"
  },
  "language_info": {
   "codemirror_mode": {
    "name": "ipython",
    "version": 3
   },
   "file_extension": ".py",
   "mimetype": "text/x-python",
   "name": "python",
   "nbconvert_exporter": "python",
   "pygments_lexer": "ipython3",
   "version": "3.8.5"
  }
 },
 "nbformat": 4,
 "nbformat_minor": 4
}
